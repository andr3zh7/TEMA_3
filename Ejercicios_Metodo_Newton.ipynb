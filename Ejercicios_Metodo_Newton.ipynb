{
  "nbformat": 4,
  "nbformat_minor": 0,
  "metadata": {
    "colab": {
      "name": "Ejercicios Metodo Newton.ipynb",
      "provenance": [],
      "collapsed_sections": []
    },
    "kernelspec": {
      "name": "python3",
      "display_name": "Python 3"
    },
    "language_info": {
      "name": "python"
    }
  },
  "cells": [
    {
      "cell_type": "markdown",
      "metadata": {
        "id": "E7ZWis3njd5Y"
      },
      "source": [
        "**METODO NEWTON** \n"
      ]
    },
    {
      "cell_type": "markdown",
      "metadata": {
        "id": "IMeNwj_jFiWl"
      },
      "source": [
        "A)"
      ]
    },
    {
      "cell_type": "code",
      "metadata": {
        "id": "vog6QdW0jncd"
      },
      "source": [
        "import numpy as np\n",
        "import math\n",
        "from math import *\n",
        "from math import e"
      ],
      "execution_count": null,
      "outputs": []
    },
    {
      "cell_type": "code",
      "metadata": {
        "id": "0LwgqeK6jn2k",
        "colab": {
          "base_uri": "https://localhost:8080/"
        },
        "outputId": "bc88b336-3724-427e-a0ae-4110fa42d4ae"
      },
      "source": [
        "def jacobiano(x):\n",
        "    J = np.array([[8*x[0]-20, 1/2*x[1]], [(1/2*x[1]**2)+2, x[0]*x[1]-5]])\n",
        "    JInversa = np.linalg.inv(J)\n",
        "    return JInversa\n",
        "\n",
        "def Fx(x):\n",
        "    x1 = (4*x[0]**2)-(20*x[0])+(1/4*x[1]**2)+8\n",
        "    \n",
        "    x2= (1/2*x[0]*x[1]**2)+(2*x[0])-(5*x[1])+8\n",
        "    \n",
        "    xk = np.array([x1,x2])\n",
        "    return xk\n",
        "\n",
        "x = np.array([0,0]) \n",
        "error = 1\n",
        "c=0\n",
        "\n",
        "iteraciones=0\n",
        "while error>0.01 and iteraciones<maxiter:\n",
        "    iteraciones+=1\n",
        "    c+=1\n",
        "    r= jacobiano(x)\n",
        "    feval = Fx(x)\n",
        "    resultado =x- np.dot(r,feval)\n",
        "    \n",
        "    numerador = np.amax( abs((resultado - x)))\n",
        "    denominador = np.amax( abs(resultado))\n",
        "    error = numerador/denominador\n",
        "    x=resultado\n",
        "    \n",
        "    print(\"Iteración:\",c,\" Resultado \",resultado)"
      ],
      "execution_count": null,
      "outputs": [
        {
          "output_type": "stream",
          "text": [
            "Iteración: 1  Resultado  [0.4  1.76]\n",
            "Iteración: 2  Resultado  [0.49589361 1.98342347]\n",
            "Iteración: 3  Resultado  [0.49998761 1.99993705]\n"
          ],
          "name": "stdout"
        }
      ]
    },
    {
      "cell_type": "markdown",
      "metadata": {
        "id": "v5ozZ5SwFpTZ"
      },
      "source": [
        "B)"
      ]
    },
    {
      "cell_type": "code",
      "metadata": {
        "id": "wvCvtbnWJWSk",
        "colab": {
          "base_uri": "https://localhost:8080/"
        },
        "outputId": "7c3badd7-b74a-4267-bd35-2c108366d601"
      },
      "source": [
        "def jacobiano(x):\n",
        "    J = np.array([[4*pi*x[1]*cos(4*pi*x[0]*x[1])-1, 4*pi*x[1]*cos(4*pi*x[0]*x[1])-2], [(((4*pi*e**2*x[0])-(e**2*x[0]))/2*pi)-2*e, 8*e*x[1]]])\n",
        "    JInversa = np.linalg.inv(J)\n",
        "    return JInversa\n",
        "\n",
        "def Fx(x):\n",
        "    x1 = sin(4*pi*x[0]*x[1])-2*x[1]-x[0]\n",
        "    \n",
        "    x2= ((4*pi-1)/(4*pi))*(e**2*x[0]-e)+ 4*e*x[1]**2-2*e*x[0]\n",
        "    \n",
        "    xk = np.array([x1,x2])\n",
        "    return xk\n",
        "\n",
        "x = np.array([0,0]) \n",
        "error = 1\n",
        "c=0\n",
        "\n",
        "iteraciones=0\n",
        "while error>0.01 and iteraciones<maxiter:\n",
        "    iteraciones+=1\n",
        "    c+=1\n",
        "    r= jacobiano(x)\n",
        "    feval = Fx(x)\n",
        "    resultado =x- np.dot(r,feval)\n",
        "    \n",
        "    numerador = np.amax( abs((resultado - x)))\n",
        "    denominador = np.amax( abs(resultado))\n",
        "    error = numerador/denominador\n",
        "    x=resultado\n",
        "    \n",
        "    print(\"Iteración:\",c,\" Resultado \",resultado)"
      ],
      "execution_count": null,
      "outputs": [
        {
          "output_type": "stream",
          "text": [
            "Iteración: 1  Resultado  [-0.46021126  0.23010563]\n",
            "Iteración: 2  Resultado  [-0.55167965 -0.48816594]\n",
            "Iteración: 3  Resultado  [-0.50948736 -0.86664076]\n"
          ],
          "name": "stdout"
        }
      ]
    },
    {
      "cell_type": "markdown",
      "metadata": {
        "id": "QvHoCPmWQ6JC"
      },
      "source": [
        "C)"
      ]
    },
    {
      "cell_type": "code",
      "metadata": {
        "id": "SjYr0DH6ZLDs",
        "colab": {
          "base_uri": "https://localhost:8080/",
          "height": 478
        },
        "outputId": "695d9a61-0ef8-4a64-ab6a-86e0f3cc4e42"
      },
      "source": [
        "def jacobiano(x):\n",
        "    J = np.array([[2*x[0],1,0], [1-2*x[1],0], [1,1,1]])\n",
        "    JInversa = np.linalg.inv(J)\n",
        "    return JInversa\n",
        "\n",
        "def Fx(x):\n",
        "    x1 = x[0]**2+x[1]-37\n",
        "    \n",
        "    x2 = x[0]-x[1]**2-5\n",
        "\n",
        "    x3 = x[0]+x[1]+x[2]-3\n",
        "    \n",
        "    xk = np.array([x1,x2])\n",
        "    return xk\n",
        "\n",
        "x = np.array([0,0,0]) \n",
        "error = 1\n",
        "c=0\n",
        "iteraciones=0\n",
        "while error>0.01 and iteraciones<maxiter:\n",
        "    iteraciones+=1\n",
        "    c+=1\n",
        "    r= jacobiano(x)\n",
        "    feval = Fx(x)\n",
        "    resultado =x- np.dot(r,feval)\n",
        "    \n",
        "    numerador = np.amax( abs((resultado - x)))\n",
        "    denominador = np.amax( abs(resultado))\n",
        "    error = numerador/denominador\n",
        "    x=resultado\n",
        "    \n",
        "    print(\"Iteración:\",c,\" Resultado \",resultado)"
      ],
      "execution_count": null,
      "outputs": [
        {
          "output_type": "stream",
          "text": [
            "/usr/local/lib/python3.7/dist-packages/ipykernel_launcher.py:2: VisibleDeprecationWarning: Creating an ndarray from ragged nested sequences (which is a list-or-tuple of lists-or-tuples-or ndarrays with different lengths or shapes) is deprecated. If you meant to do this, you must specify 'dtype=object' when creating the ndarray\n",
            "  \n"
          ],
          "name": "stderr"
        },
        {
          "output_type": "error",
          "ename": "LinAlgError",
          "evalue": "ignored",
          "traceback": [
            "\u001b[0;31m---------------------------------------------------------------------------\u001b[0m",
            "\u001b[0;31mLinAlgError\u001b[0m                               Traceback (most recent call last)",
            "\u001b[0;32m<ipython-input-76-31a4c583f50c>\u001b[0m in \u001b[0;36m<module>\u001b[0;34m()\u001b[0m\n\u001b[1;32m     21\u001b[0m     \u001b[0miteraciones\u001b[0m\u001b[0;34m+=\u001b[0m\u001b[0;36m1\u001b[0m\u001b[0;34m\u001b[0m\u001b[0;34m\u001b[0m\u001b[0m\n\u001b[1;32m     22\u001b[0m     \u001b[0mc\u001b[0m\u001b[0;34m+=\u001b[0m\u001b[0;36m1\u001b[0m\u001b[0;34m\u001b[0m\u001b[0;34m\u001b[0m\u001b[0m\n\u001b[0;32m---> 23\u001b[0;31m     \u001b[0mr\u001b[0m\u001b[0;34m=\u001b[0m \u001b[0mjacobiano\u001b[0m\u001b[0;34m(\u001b[0m\u001b[0mx\u001b[0m\u001b[0;34m)\u001b[0m\u001b[0;34m\u001b[0m\u001b[0;34m\u001b[0m\u001b[0m\n\u001b[0m\u001b[1;32m     24\u001b[0m     \u001b[0mfeval\u001b[0m \u001b[0;34m=\u001b[0m \u001b[0mFx\u001b[0m\u001b[0;34m(\u001b[0m\u001b[0mx\u001b[0m\u001b[0;34m)\u001b[0m\u001b[0;34m\u001b[0m\u001b[0;34m\u001b[0m\u001b[0m\n\u001b[1;32m     25\u001b[0m     \u001b[0mresultado\u001b[0m \u001b[0;34m=\u001b[0m\u001b[0mx\u001b[0m\u001b[0;34m-\u001b[0m \u001b[0mnp\u001b[0m\u001b[0;34m.\u001b[0m\u001b[0mdot\u001b[0m\u001b[0;34m(\u001b[0m\u001b[0mr\u001b[0m\u001b[0;34m,\u001b[0m\u001b[0mfeval\u001b[0m\u001b[0;34m)\u001b[0m\u001b[0;34m\u001b[0m\u001b[0;34m\u001b[0m\u001b[0m\n",
            "\u001b[0;32m<ipython-input-76-31a4c583f50c>\u001b[0m in \u001b[0;36mjacobiano\u001b[0;34m(x)\u001b[0m\n\u001b[1;32m      1\u001b[0m \u001b[0;32mdef\u001b[0m \u001b[0mjacobiano\u001b[0m\u001b[0;34m(\u001b[0m\u001b[0mx\u001b[0m\u001b[0;34m)\u001b[0m\u001b[0;34m:\u001b[0m\u001b[0;34m\u001b[0m\u001b[0;34m\u001b[0m\u001b[0m\n\u001b[1;32m      2\u001b[0m     \u001b[0mJ\u001b[0m \u001b[0;34m=\u001b[0m \u001b[0mnp\u001b[0m\u001b[0;34m.\u001b[0m\u001b[0marray\u001b[0m\u001b[0;34m(\u001b[0m\u001b[0;34m[\u001b[0m\u001b[0;34m[\u001b[0m\u001b[0;36m2\u001b[0m\u001b[0;34m*\u001b[0m\u001b[0mx\u001b[0m\u001b[0;34m[\u001b[0m\u001b[0;36m0\u001b[0m\u001b[0;34m]\u001b[0m\u001b[0;34m,\u001b[0m\u001b[0;36m1\u001b[0m\u001b[0;34m,\u001b[0m\u001b[0;36m0\u001b[0m\u001b[0;34m]\u001b[0m\u001b[0;34m,\u001b[0m \u001b[0;34m[\u001b[0m\u001b[0;36m1\u001b[0m\u001b[0;34m-\u001b[0m\u001b[0;36m2\u001b[0m\u001b[0;34m*\u001b[0m\u001b[0mx\u001b[0m\u001b[0;34m[\u001b[0m\u001b[0;36m1\u001b[0m\u001b[0;34m]\u001b[0m\u001b[0;34m,\u001b[0m\u001b[0;36m0\u001b[0m\u001b[0;34m]\u001b[0m\u001b[0;34m,\u001b[0m \u001b[0;34m[\u001b[0m\u001b[0;36m1\u001b[0m\u001b[0;34m,\u001b[0m\u001b[0;36m1\u001b[0m\u001b[0;34m,\u001b[0m\u001b[0;36m1\u001b[0m\u001b[0;34m]\u001b[0m\u001b[0;34m]\u001b[0m\u001b[0;34m)\u001b[0m\u001b[0;34m\u001b[0m\u001b[0;34m\u001b[0m\u001b[0m\n\u001b[0;32m----> 3\u001b[0;31m     \u001b[0mJInversa\u001b[0m \u001b[0;34m=\u001b[0m \u001b[0mnp\u001b[0m\u001b[0;34m.\u001b[0m\u001b[0mlinalg\u001b[0m\u001b[0;34m.\u001b[0m\u001b[0minv\u001b[0m\u001b[0;34m(\u001b[0m\u001b[0mJ\u001b[0m\u001b[0;34m)\u001b[0m\u001b[0;34m\u001b[0m\u001b[0;34m\u001b[0m\u001b[0m\n\u001b[0m\u001b[1;32m      4\u001b[0m     \u001b[0;32mreturn\u001b[0m \u001b[0mJInversa\u001b[0m\u001b[0;34m\u001b[0m\u001b[0;34m\u001b[0m\u001b[0m\n\u001b[1;32m      5\u001b[0m \u001b[0;34m\u001b[0m\u001b[0m\n",
            "\u001b[0;32m<__array_function__ internals>\u001b[0m in \u001b[0;36minv\u001b[0;34m(*args, **kwargs)\u001b[0m\n",
            "\u001b[0;32m/usr/local/lib/python3.7/dist-packages/numpy/linalg/linalg.py\u001b[0m in \u001b[0;36minv\u001b[0;34m(a)\u001b[0m\n\u001b[1;32m    538\u001b[0m     \"\"\"\n\u001b[1;32m    539\u001b[0m     \u001b[0ma\u001b[0m\u001b[0;34m,\u001b[0m \u001b[0mwrap\u001b[0m \u001b[0;34m=\u001b[0m \u001b[0m_makearray\u001b[0m\u001b[0;34m(\u001b[0m\u001b[0ma\u001b[0m\u001b[0;34m)\u001b[0m\u001b[0;34m\u001b[0m\u001b[0;34m\u001b[0m\u001b[0m\n\u001b[0;32m--> 540\u001b[0;31m     \u001b[0m_assert_stacked_2d\u001b[0m\u001b[0;34m(\u001b[0m\u001b[0ma\u001b[0m\u001b[0;34m)\u001b[0m\u001b[0;34m\u001b[0m\u001b[0;34m\u001b[0m\u001b[0m\n\u001b[0m\u001b[1;32m    541\u001b[0m     \u001b[0m_assert_stacked_square\u001b[0m\u001b[0;34m(\u001b[0m\u001b[0ma\u001b[0m\u001b[0;34m)\u001b[0m\u001b[0;34m\u001b[0m\u001b[0;34m\u001b[0m\u001b[0m\n\u001b[1;32m    542\u001b[0m     \u001b[0mt\u001b[0m\u001b[0;34m,\u001b[0m \u001b[0mresult_t\u001b[0m \u001b[0;34m=\u001b[0m \u001b[0m_commonType\u001b[0m\u001b[0;34m(\u001b[0m\u001b[0ma\u001b[0m\u001b[0;34m)\u001b[0m\u001b[0;34m\u001b[0m\u001b[0;34m\u001b[0m\u001b[0m\n",
            "\u001b[0;32m/usr/local/lib/python3.7/dist-packages/numpy/linalg/linalg.py\u001b[0m in \u001b[0;36m_assert_stacked_2d\u001b[0;34m(*arrays)\u001b[0m\n\u001b[1;32m    196\u001b[0m         \u001b[0;32mif\u001b[0m \u001b[0ma\u001b[0m\u001b[0;34m.\u001b[0m\u001b[0mndim\u001b[0m \u001b[0;34m<\u001b[0m \u001b[0;36m2\u001b[0m\u001b[0;34m:\u001b[0m\u001b[0;34m\u001b[0m\u001b[0;34m\u001b[0m\u001b[0m\n\u001b[1;32m    197\u001b[0m             raise LinAlgError('%d-dimensional array given. Array must be '\n\u001b[0;32m--> 198\u001b[0;31m                     'at least two-dimensional' % a.ndim)\n\u001b[0m\u001b[1;32m    199\u001b[0m \u001b[0;34m\u001b[0m\u001b[0m\n\u001b[1;32m    200\u001b[0m \u001b[0;32mdef\u001b[0m \u001b[0m_assert_stacked_square\u001b[0m\u001b[0;34m(\u001b[0m\u001b[0;34m*\u001b[0m\u001b[0marrays\u001b[0m\u001b[0;34m)\u001b[0m\u001b[0;34m:\u001b[0m\u001b[0;34m\u001b[0m\u001b[0;34m\u001b[0m\u001b[0m\n",
            "\u001b[0;31mLinAlgError\u001b[0m: 1-dimensional array given. Array must be at least two-dimensional"
          ]
        }
      ]
    },
    {
      "cell_type": "code",
      "metadata": {
        "id": "DT_zs9n2Rm0g"
      },
      "source": [
        ""
      ],
      "execution_count": null,
      "outputs": []
    }
  ]
}