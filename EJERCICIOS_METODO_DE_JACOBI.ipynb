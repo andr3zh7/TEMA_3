{
  "nbformat": 4,
  "nbformat_minor": 0,
  "metadata": {
    "colab": {
      "name": "EJERCICIOS METODO DE JACOBI.ipynb",
      "provenance": [],
      "collapsed_sections": []
    },
    "kernelspec": {
      "name": "python3",
      "display_name": "Python 3"
    },
    "language_info": {
      "name": "python"
    }
  },
  "cells": [
    {
      "cell_type": "code",
      "metadata": {
        "id": "8l61NrE1lPOX"
      },
      "source": [
        "import numpy as np"
      ],
      "execution_count": null,
      "outputs": []
    },
    {
      "cell_type": "code",
      "metadata": {
        "id": "HXKSzqWxk6Ln"
      },
      "source": [
        "#Definimos la matriz T"
      ],
      "execution_count": null,
      "outputs": []
    },
    {
      "cell_type": "code",
      "metadata": {
        "colab": {
          "base_uri": "https://localhost:8080/"
        },
        "id": "4XPTUVYFlVbz",
        "outputId": "b6a7317e-47fc-40da-a136-b5b743d198ff"
      },
      "source": [
        "T=np.array([[0,-1/4,1/4,-1/4], [-1/4,0,1/4,1/4], [1/5,1/5,0,-1/5], [-1/3,1/3,-1/3,0]])\n",
        "c=np.array([-1/2,-1/4,0,1/3])\n",
        "x=np.array([0,0,0,0])\n",
        "erroraceptado=0.01\n",
        "print(\"La matriz es de: \",T.shape)\n",
        "print(c.shape)\n",
        "error=1\n",
        "iteracion=0\n",
        "while error>erroraceptado:\n",
        "  iteracion+=1\n",
        "  resultado = np.dot(T,x)+c \n",
        "  print(\"Iteracion: \",iteracion,resultado)\n",
        "  numerador=np.amax(abs((resultado-x)))\n",
        "  denominador=np.amax(abs(resultado))\n",
        "  error=numerador/denominador\n",
        "  x=resultado"
      ],
      "execution_count": null,
      "outputs": [
        {
          "output_type": "stream",
          "text": [
            "La matriz es de:  (4, 4)\n",
            "(4,)\n",
            "Iteracion:  1 [-0.5        -0.25        0.          0.33333333]\n",
            "Iteracion:  2 [-0.52083333 -0.04166667 -0.21666667  0.41666667]\n",
            "Iteracion:  3 [-0.64791667 -0.06979167 -0.19583333  0.56527778]\n",
            "Iteracion:  4 [-0.67282986  0.00434028 -0.25659722  0.59131944]\n",
            "Iteracion:  5 [-0.71306424  0.00188802 -0.25196181  0.64458912]\n",
            "Iteracion:  6 [-0.72460974  0.02642289 -0.27115307  0.65563802]\n",
            "Iteracion:  7 [-0.73830349  0.02727367 -0.27076497  0.6740619 ]\n",
            "Iteracion:  8 [-0.74302514  0.0354001  -0.27701834  0.67878071]\n",
            "Iteracion:  9 [-0.74779979  0.03619688 -0.27728115  0.68514786]\n"
          ],
          "name": "stdout"
        }
      ]
    },
    {
      "cell_type": "code",
      "metadata": {
        "id": "tgMMuK5Vm4w3"
      },
      "source": [
        ""
      ],
      "execution_count": null,
      "outputs": []
    }
  ]
}